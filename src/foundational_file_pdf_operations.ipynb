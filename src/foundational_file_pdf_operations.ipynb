{
 "cells": [
  {
   "cell_type": "markdown",
   "id": "e647d0cc",
   "metadata": {},
   "source": [
    "# 2 types of PDFs encountered so far\n",
    "## type1: paragraph breaks are well formed... can potentially leverage logic to find headers to logically chunk the text up\n",
    "## type 2: line breaks all over the place"
   ]
  },
  {
   "cell_type": "code",
   "execution_count": 164,
   "id": "ba38ad26",
   "metadata": {},
   "outputs": [],
   "source": [
    "import PyPDF2\n",
    "import re\n",
    "import pandas as pd"
   ]
  },
  {
   "cell_type": "code",
   "execution_count": 205,
   "id": "7988fdf5",
   "metadata": {},
   "outputs": [],
   "source": [
    "\n",
    "folder = 'C:/Users/ericf/OneDrive/Documents/analytic-projects/red cross/rc_downloaded_materials/evaluations/'\n",
    "file = 'IFRC Ukraine crisis response_CVA review report_ final.pdf'\n",
    "file = 'Afghanistan_Humanitarian_Crises_MTR report_final.pdf' #very few newlines\n",
    "#file = 'Lessons Learned CVTL COVID-19 Ops-1.pdf'\n",
    "\n",
    "filepath = f'{folder}{file}'\n",
    "\n"
   ]
  },
  {
   "cell_type": "code",
   "execution_count": 206,
   "id": "f69466a2",
   "metadata": {},
   "outputs": [],
   "source": [
    "def read_document(filepath) -> str:\n",
    "    pdfFileObj = open(filepath, 'rb')\n",
    "    pdfReader = PyPDF2.PdfFileReader(pdfFileObj)\n",
    "    pdf_pagelength = pdfReader.numPages\n",
    "    \n",
    "    page = ''\n",
    "    for i in range (pdf_pagelength):\n",
    "        pageObj = pdfReader.getPage(i)\n",
    "        page += ' ' + pageObj.extractText()\n",
    "        \n",
    "    return page\n",
    "\n",
    "document = read_document(filepath)"
   ]
  },
  {
   "cell_type": "code",
   "execution_count": 224,
   "id": "67d08ba8",
   "metadata": {},
   "outputs": [
    {
     "name": "stdout",
     "output_type": "stream",
     "text": [
      "normal_newlines\n",
      "397\n"
     ]
    }
   ],
   "source": [
    "def split_to_paragraphs(text, limit=8):\n",
    "    \n",
    "    \n",
    "    #clean up errant situations where two strings are merged without a space\n",
    "    text = re.sub(r'([a-z])([A-Z])', r'\\1. \\2', text)\n",
    "    \n",
    "    \n",
    "    # determine if newlines are used solely in the separation of paragraphs\n",
    "    # or as is common with pdf, also used to format line-lengths\n",
    "\n",
    "    newlines_per_page = len(text.split('\\n')) / pdf_pagelength\n",
    "    if newlines_per_page > limit:\n",
    "        print('excess_newlines')\n",
    "        #split the doc on sentence terminators followed by newline\n",
    "        paragraphs = re.split('[.?!]\\s*\\n', text)\n",
    "    else:\n",
    "        print('normal_newlines')\n",
    "        paragraphs = re.split(\"\\s{2,}\", text)\n",
    "        \n",
    "    #strip out any remaining newlines\n",
    "    for i in range(len(paragraphs)):\n",
    "        paragraphs[i] = paragraphs[i].replace('\\n',' ')\n",
    "\n",
    "    #create a dataframe with each paragraph as its own record\n",
    "    df_paragraphs = pd.DataFrame([{\"file\" : file, \"paragraph\" : paragraph}\n",
    "                             for paragraph in paragraphs if paragraph])\n",
    "    \n",
    "    return df_paragraphs\n",
    "    \n",
    "df_paragraphs = split_to_paragraphs(document)\n",
    "print(len(df_paragraphs))"
   ]
  },
  {
   "cell_type": "code",
   "execution_count": 225,
   "id": "c60766f5",
   "metadata": {},
   "outputs": [
    {
     "data": {
      "text/html": [
       "<div>\n",
       "<style scoped>\n",
       "    .dataframe tbody tr th:only-of-type {\n",
       "        vertical-align: middle;\n",
       "    }\n",
       "\n",
       "    .dataframe tbody tr th {\n",
       "        vertical-align: top;\n",
       "    }\n",
       "\n",
       "    .dataframe thead th {\n",
       "        text-align: right;\n",
       "    }\n",
       "</style>\n",
       "<table border=\"1\" class=\"dataframe\">\n",
       "  <thead>\n",
       "    <tr style=\"text-align: right;\">\n",
       "      <th></th>\n",
       "      <th>file</th>\n",
       "      <th>paragraph</th>\n",
       "    </tr>\n",
       "  </thead>\n",
       "  <tbody>\n",
       "    <tr>\n",
       "      <th>0</th>\n",
       "      <td>Afghanistan_Humanitarian_Crises_MTR report_fin...</td>\n",
       "      <td>Internal</td>\n",
       "    </tr>\n",
       "    <tr>\n",
       "      <th>1</th>\n",
       "      <td>Afghanistan_Humanitarian_Crises_MTR report_fin...</td>\n",
       "      <td>2 Executive summary</td>\n",
       "    </tr>\n",
       "    <tr>\n",
       "      <th>2</th>\n",
       "      <td>Afghanistan_Humanitarian_Crises_MTR report_fin...</td>\n",
       "      <td>Introduction Affected populations across Afgha...</td>\n",
       "    </tr>\n",
       "    <tr>\n",
       "      <th>3</th>\n",
       "      <td>Afghanistan_Humanitarian_Crises_MTR report_fin...</td>\n",
       "      <td>Methodology A mixed-method approach was taken ...</td>\n",
       "    </tr>\n",
       "    <tr>\n",
       "      <th>4</th>\n",
       "      <td>Afghanistan_Humanitarian_Crises_MTR report_fin...</td>\n",
       "      <td>Findings Relevance and Appropriateness ARCS co...</td>\n",
       "    </tr>\n",
       "    <tr>\n",
       "      <th>...</th>\n",
       "      <td>...</td>\n",
       "      <td>...</td>\n",
       "    </tr>\n",
       "    <tr>\n",
       "      <th>392</th>\n",
       "      <td>Afghanistan_Humanitarian_Crises_MTR report_fin...</td>\n",
       "      <td>Takhar</td>\n",
       "    </tr>\n",
       "    <tr>\n",
       "      <th>393</th>\n",
       "      <td>Afghanistan_Humanitarian_Crises_MTR report_fin...</td>\n",
       "      <td>Yasin and his family live in Khafdara, a villa...</td>\n",
       "    </tr>\n",
       "    <tr>\n",
       "      <th>394</th>\n",
       "      <td>Afghanistan_Humanitarian_Crises_MTR report_fin...</td>\n",
       "      <td>Takhar province is divided into 17 districts a...</td>\n",
       "    </tr>\n",
       "    <tr>\n",
       "      <th>395</th>\n",
       "      <td>Afghanistan_Humanitarian_Crises_MTR report_fin...</td>\n",
       "      <td>Yasin’s household was identified during the as...</td>\n",
       "    </tr>\n",
       "    <tr>\n",
       "      <th>396</th>\n",
       "      <td>Afghanistan_Humanitarian_Crises_MTR report_fin...</td>\n",
       "      <td>75</td>\n",
       "    </tr>\n",
       "  </tbody>\n",
       "</table>\n",
       "<p>397 rows × 2 columns</p>\n",
       "</div>"
      ],
      "text/plain": [
       "                                                  file  \\\n",
       "0    Afghanistan_Humanitarian_Crises_MTR report_fin...   \n",
       "1    Afghanistan_Humanitarian_Crises_MTR report_fin...   \n",
       "2    Afghanistan_Humanitarian_Crises_MTR report_fin...   \n",
       "3    Afghanistan_Humanitarian_Crises_MTR report_fin...   \n",
       "4    Afghanistan_Humanitarian_Crises_MTR report_fin...   \n",
       "..                                                 ...   \n",
       "392  Afghanistan_Humanitarian_Crises_MTR report_fin...   \n",
       "393  Afghanistan_Humanitarian_Crises_MTR report_fin...   \n",
       "394  Afghanistan_Humanitarian_Crises_MTR report_fin...   \n",
       "395  Afghanistan_Humanitarian_Crises_MTR report_fin...   \n",
       "396  Afghanistan_Humanitarian_Crises_MTR report_fin...   \n",
       "\n",
       "                                             paragraph  \n",
       "0                                             Internal  \n",
       "1                                  2 Executive summary  \n",
       "2    Introduction Affected populations across Afgha...  \n",
       "3    Methodology A mixed-method approach was taken ...  \n",
       "4    Findings Relevance and Appropriateness ARCS co...  \n",
       "..                                                 ...  \n",
       "392                                             Takhar  \n",
       "393  Yasin and his family live in Khafdara, a villa...  \n",
       "394  Takhar province is divided into 17 districts a...  \n",
       "395  Yasin’s household was identified during the as...  \n",
       "396                                                 75  \n",
       "\n",
       "[397 rows x 2 columns]"
      ]
     },
     "execution_count": 225,
     "metadata": {},
     "output_type": "execute_result"
    }
   ],
   "source": [
    "df_paragraphs"
   ]
  },
  {
   "cell_type": "code",
   "execution_count": null,
   "id": "b6e939ab",
   "metadata": {},
   "outputs": [],
   "source": [
    "#Still working on this\n",
    "def identify_ordered_lists(text):\n",
    "      #regular expression to find numbered lists with the format \"1. text\"\n",
    "    list_pat = re.compile('\\.(\\s+[\\d]+\\. )([^.!?]*)')\n",
    "    list_pat.findall(mixed)"
   ]
  }
 ],
 "metadata": {
  "kernelspec": {
   "display_name": "Python 3 (ipykernel)",
   "language": "python",
   "name": "python3"
  },
  "language_info": {
   "codemirror_mode": {
    "name": "ipython",
    "version": 3
   },
   "file_extension": ".py",
   "mimetype": "text/x-python",
   "name": "python",
   "nbconvert_exporter": "python",
   "pygments_lexer": "ipython3",
   "version": "3.10.9"
  }
 },
 "nbformat": 4,
 "nbformat_minor": 5
}
