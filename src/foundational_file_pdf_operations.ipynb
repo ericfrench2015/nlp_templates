{
 "cells": [
  {
   "cell_type": "markdown",
   "id": "6a012598",
   "metadata": {},
   "source": [
    "# 2 types of PDFs encountered so far\n",
    "## type1: paragraph breaks are well formed... can potentially leverage logic to find headers to logically chunk the text up\n",
    "## type 2: line breaks all over the place"
   ]
  },
  {
   "cell_type": "code",
   "execution_count": 1,
   "id": "31f79fd2",
   "metadata": {},
   "outputs": [],
   "source": [
    "import PyPDF2\n",
    "import re\n",
    "import pandas as pd"
   ]
  },
  {
   "cell_type": "code",
   "execution_count": 2,
   "id": "900985b1",
   "metadata": {},
   "outputs": [],
   "source": [
    "\n",
    "folder = 'C:/Users/ericf/OneDrive/Documents/analytic-projects/red cross/rc_downloaded_materials/evaluations/'\n",
    "file = 'IFRC Ukraine crisis response_CVA review report_ final.pdf'\n",
    "file = 'Afghanistan_Humanitarian_Crises_MTR report_final.pdf' #very few newlines\n",
    "#file = 'Lessons Learned CVTL COVID-19 Ops-1.pdf'\n",
    "\n",
    "filepath = f'{folder}{file}'\n",
    "\n"
   ]
  },
  {
   "cell_type": "code",
   "execution_count": 3,
   "id": "edc870ac",
   "metadata": {},
   "outputs": [],
   "source": [
    "def read_document(filepath, begin_page=0, end_page=-1) -> str:\n",
    "    pdfFileObj = open(filepath, 'rb')\n",
    "    pdfReader = PyPDF2.PdfFileReader(pdfFileObj)\n",
    "    end_page = end_page if end_page > 0 else pdfReader.numPages\n",
    "    \n",
    "    \n",
    "    page = ''\n",
    "    for i in range (begin_page, end_page):\n",
    "        pageObj = pdfReader.getPage(i)\n",
    "        page += ' ' + pageObj.extractText()\n",
    "        \n",
    "    return page\n",
    "\n",
    "\n",
    "document = read_document(filepath)"
   ]
  },
  {
   "cell_type": "code",
   "execution_count": 5,
   "id": "4e28da4c",
   "metadata": {},
   "outputs": [
    {
     "name": "stdout",
     "output_type": "stream",
     "text": [
      "normal_newlines\n",
      "397\n"
     ]
    }
   ],
   "source": [
    "\n",
    "def split_to_paragraphs(text, limit=100):\n",
    "    \n",
    "    \n",
    "    #clean up errant situations where two strings are merged without a space\n",
    "    text = re.sub(r'([a-z])([A-Z])', r'\\1. \\2', text)\n",
    "    \n",
    "    \n",
    "    # determine if newlines are used solely in the separation of paragraphs\n",
    "    # or as is common with pdf, also used to format line-lengths\n",
    "\n",
    "    chars_per_newline = len(text) / len(text.split('\\n')) \n",
    "    if chars_per_newline < limit:\n",
    "        print('excess_newlines')\n",
    "        #split the doc on sentence terminators followed by newline\n",
    "        paragraphs = re.split('[.?!]\\s*\\n', text)\n",
    "    else:\n",
    "        print('normal_newlines')\n",
    "        paragraphs = re.split(\"\\s{2,}\", text)\n",
    "        \n",
    "    #strip out any remaining newlines\n",
    "    for i in range(len(paragraphs)):\n",
    "        paragraphs[i] = paragraphs[i].replace('\\n',' ')\n",
    "\n",
    "    #create a dataframe with each paragraph as its own record\n",
    "    df_paragraphs = pd.DataFrame([{\"file\" : file, \"paragraph\" : paragraph}\n",
    "                             for paragraph in paragraphs if paragraph])\n",
    "    \n",
    "    return df_paragraphs\n",
    "\n",
    "df_paragraphs = split_to_paragraphs(document)\n",
    "print(len(df_paragraphs))"
   ]
  },
  {
   "cell_type": "code",
   "execution_count": null,
   "id": "dd7c6faf",
   "metadata": {},
   "outputs": [],
   "source": [
    "df_paragraphs"
   ]
  },
  {
   "cell_type": "code",
   "execution_count": null,
   "id": "ef8e9764",
   "metadata": {},
   "outputs": [],
   "source": [
    "#Still working on this\n",
    "def identify_ordered_lists(text):\n",
    "      #regular expression to find numbered lists with the format \"1. text\"\n",
    "    list_pat = re.compile('\\.(\\s+[\\d]+\\. )([^.!?]*)')\n",
    "    list_pat.findall(mixed)"
   ]
  }
 ],
 "metadata": {
  "kernelspec": {
   "display_name": "Python 3 (ipykernel)",
   "language": "python",
   "name": "python3"
  },
  "language_info": {
   "codemirror_mode": {
    "name": "ipython",
    "version": 3
   },
   "file_extension": ".py",
   "mimetype": "text/x-python",
   "name": "python",
   "nbconvert_exporter": "python",
   "pygments_lexer": "ipython3",
   "version": "3.10.9"
  }
 },
 "nbformat": 4,
 "nbformat_minor": 5
}
